{
  "nbformat": 4,
  "nbformat_minor": 0,
  "metadata": {
    "colab": {
      "provenance": []
    },
    "kernelspec": {
      "name": "python3",
      "display_name": "Python 3"
    },
    "language_info": {
      "name": "python"
    }
  },
  "cells": [
    {
      "cell_type": "code",
      "execution_count": null,
      "metadata": {
        "colab": {
          "base_uri": "https://localhost:8080/"
        },
        "id": "QWt0IoP99PQj",
        "outputId": "99c52f8f-8339-477c-917c-5890e850b444"
      },
      "outputs": [
        {
          "output_type": "stream",
          "name": "stdout",
          "text": [
            "Mounted at /content/drive/\n"
          ]
        }
      ],
      "source": [
        "from google.colab import drive\n",
        "drive.mount('/content/drive/')"
      ]
    },
    {
      "cell_type": "code",
      "source": [
        "# Set path\n",
        "path = 'drive/MyDrive/universita/structural_bioinformatics/midterm/data'"
      ],
      "metadata": {
        "id": "PlxyPbXlDUvl"
      },
      "execution_count": null,
      "outputs": []
    },
    {
      "cell_type": "code",
      "source": [
        "%%capture\n",
        "# !pip install scipy\n",
        "!pip install matplotlib\n",
        "!pip install biopython"
      ],
      "metadata": {
        "id": "3YTgK5Kd_f3k"
      },
      "execution_count": null,
      "outputs": []
    },
    {
      "cell_type": "code",
      "source": [
        "import math\n",
        "import numpy as np\n",
        "\n",
        "from Bio.PDB import PDBList, PPBuilder, is_aa\n",
        "from Bio.PDB.PDBParser import PDBParser\n",
        "from Bio.PDB import PDBList, NeighborSearch\n",
        "\n",
        "import matplotlib.pyplot as plt\n",
        "import matplotlib.colors as mplcolors"
      ],
      "metadata": {
        "id": "2Pg5GV8wV7Le"
      },
      "execution_count": null,
      "outputs": []
    },
    {
      "cell_type": "code",
      "source": [
        "def get_distance_matrix(atoms, seq_sep=6):\n",
        "  \"\"\"\n",
        "  Calculate a distance matrix considering only \n",
        "  CA atoms and a minimum sequence separation.  \n",
        "  Return a Numpy array\n",
        "  \"\"\"\n",
        "  distances = []\n",
        "  for atom1 in atoms:\n",
        "    row = []\n",
        "    for atom2 in atoms:\n",
        "      # Check sequence separation\n",
        "      # if abs(atom1.id[1] - atom2.id[1]) >= seq_sep:\n",
        "      if abs(atoms.index(atom1) - atoms.index(atom2)) >= seq_sep:\n",
        "        row.append(atom1 - atom2)\n",
        "      else:\n",
        "        row.append(None) # For atoms not respecting sequence separation\n",
        "    distances.append(row)\n",
        "  return np.array(distances, dtype=float)"
      ],
      "metadata": {
        "id": "aB0jaLWGUu9W"
      },
      "execution_count": null,
      "outputs": []
    },
    {
      "cell_type": "code",
      "source": [
        "def get_contact_map(atoms, threshold=3.5, seq_sep=6):\n",
        "\n",
        "  # Calculate contacts\n",
        "  ns = NeighborSearch(atoms)\n",
        "\n",
        "  # Init a empty matrix\n",
        "  contact_map_nb = np.zeros((len(atoms), len(atoms)))\n",
        "\n",
        "  # \"search_all\" returns the list of atoms in contact based on a distance cutoff\n",
        "  # level=\"R\" returns pairs of residues instead of atoms\n",
        "  for atom1, atom2 in ns.search_all(threshold, level=\"A\"):\n",
        "    # Sequence separation >= 6\n",
        "    if abs(atoms.index(atom1) - atoms.index(atom2)) >= seq_sep:\n",
        "      contact_map_nb[atoms.index(atom1), atoms.index(atom2)] = 1\n",
        "      # Add also the other part of the matrix\n",
        "      contact_map_nb[atoms.index(atom2), atoms.index(atom1)] = 1\n",
        "  return contact_map_nb"
      ],
      "metadata": {
        "id": "SJXxfrQNVach"
      },
      "execution_count": null,
      "outputs": []
    },
    {
      "cell_type": "code",
      "source": [
        "def get_rama(structure, chain):\n",
        "  angles = [[], [], []]\n",
        "  ppb = PPBuilder()  # PolyPeptideBuilder\n",
        "  \n",
        "  # Calculate PSI and PHI\n",
        "  for pp in ppb.build_peptides(structure[0][chain]):\n",
        "\n",
        "      phi_psi = pp.get_phi_psi_list()  # [(phi_residue_1, psi_residue_1), ...]\n",
        "      for i, residue in enumerate(pp):\n",
        "          # print(model, chain, i, residue, phi_psi[i])\n",
        "\n",
        "          # Convert radians to degrees and remove first and last value that are None\n",
        "          if phi_psi[i][0] is not None and phi_psi[i][1] is not None:\n",
        "              angles[0].append(residue)\n",
        "              angles[1].append(math.degrees(phi_psi[i][0]))\n",
        "              angles[2].append(math.degrees(phi_psi[i][1]))\n",
        "  return angles\n",
        "  "
      ],
      "metadata": {
        "id": "3_F-KDwwVcuZ"
      },
      "execution_count": null,
      "outputs": []
    },
    {
      "cell_type": "code",
      "source": [
        "# Ramachandran regions\n",
        "regions_matrix = []\n",
        "with open(path + \"/ramachandran.dat\") as f:\n",
        "    for line in f:\n",
        "        if line:\n",
        "            regions_matrix.append([int(ele) for ele in line.strip().split()])"
      ],
      "metadata": {
        "id": "15pqzOyB9KTv"
      },
      "execution_count": null,
      "outputs": []
    },
    {
      "cell_type": "code",
      "source": [
        "# Input PDB list\n",
        "pdb_list = [\"1ot6\"]\n",
        "with open(path + '/pdb_list.dat') as f:\n",
        "    for line in f:\n",
        "        pdb_list.append(line.strip().split('_'))\n",
        "pdb_list"
      ],
      "metadata": {
        "colab": {
          "base_uri": "https://localhost:8080/",
          "height": 241
        },
        "id": "Cq2yA2Zx9xBo",
        "outputId": "6a37462d-ec26-4a16-bce7-b83ff52604f8"
      },
      "execution_count": null,
      "outputs": [
        {
          "output_type": "error",
          "ename": "FileNotFoundError",
          "evalue": "ignored",
          "traceback": [
            "\u001b[0;31m---------------------------------------------------------------------------\u001b[0m",
            "\u001b[0;31mFileNotFoundError\u001b[0m                         Traceback (most recent call last)",
            "\u001b[0;32m<ipython-input-15-a9eb1147cd80>\u001b[0m in \u001b[0;36m<cell line: 3>\u001b[0;34m()\u001b[0m\n\u001b[1;32m      1\u001b[0m \u001b[0;31m# Input PDB list\u001b[0m\u001b[0;34m\u001b[0m\u001b[0;34m\u001b[0m\u001b[0m\n\u001b[1;32m      2\u001b[0m \u001b[0mpdb_list\u001b[0m \u001b[0;34m=\u001b[0m \u001b[0;34m[\u001b[0m\u001b[0;34m\"1ot6\"\u001b[0m\u001b[0;34m]\u001b[0m\u001b[0;34m\u001b[0m\u001b[0;34m\u001b[0m\u001b[0m\n\u001b[0;32m----> 3\u001b[0;31m \u001b[0;32mwith\u001b[0m \u001b[0mopen\u001b[0m\u001b[0;34m(\u001b[0m\u001b[0mpath\u001b[0m \u001b[0;34m+\u001b[0m \u001b[0;34m'/pdb_list.dat'\u001b[0m\u001b[0;34m)\u001b[0m \u001b[0;32mas\u001b[0m \u001b[0mf\u001b[0m\u001b[0;34m:\u001b[0m\u001b[0;34m\u001b[0m\u001b[0;34m\u001b[0m\u001b[0m\n\u001b[0m\u001b[1;32m      4\u001b[0m     \u001b[0;32mfor\u001b[0m \u001b[0mline\u001b[0m \u001b[0;32min\u001b[0m \u001b[0mf\u001b[0m\u001b[0;34m:\u001b[0m\u001b[0;34m\u001b[0m\u001b[0;34m\u001b[0m\u001b[0m\n\u001b[1;32m      5\u001b[0m         \u001b[0mpdb_list\u001b[0m\u001b[0;34m.\u001b[0m\u001b[0mappend\u001b[0m\u001b[0;34m(\u001b[0m\u001b[0mline\u001b[0m\u001b[0;34m.\u001b[0m\u001b[0mstrip\u001b[0m\u001b[0;34m(\u001b[0m\u001b[0;34m)\u001b[0m\u001b[0;34m.\u001b[0m\u001b[0msplit\u001b[0m\u001b[0;34m(\u001b[0m\u001b[0;34m'_'\u001b[0m\u001b[0;34m)\u001b[0m\u001b[0;34m)\u001b[0m\u001b[0;34m\u001b[0m\u001b[0;34m\u001b[0m\u001b[0m\n",
            "\u001b[0;31mFileNotFoundError\u001b[0m: [Errno 2] No such file or directory: 'drive/MyDrive/universita/structural_bioinformatics/midterms/data/pdb_list.dat'"
          ]
        }
      ]
    },
    {
      "cell_type": "code",
      "source": [
        "pdb_list = [(\"1ot6\",\"A\")]\n",
        "for pdb_id, chain in pdb_list: # [(\"2w3z\", \"A\")]\n",
        "  \n",
        "    print(pdb_id, chain)\n",
        "\n",
        "    # Load the structure\n",
        "    pdbl = PDBList()\n",
        "    pdbl.retrieve_pdb_file(pdb_id, pdir=path + '/pdbs', file_format='pdb')\n",
        "    structure = PDBParser(QUIET=True).get_structure(pdb_id, path + \"/pdbs/pdb{}.ent\".format(pdb_id))\n",
        "\n",
        "    # Count Rama outliers\n",
        "    rama = get_rama(structure, chain)\n",
        "    rama_count = {}  # {ramachandran_regions: rama_count}\n",
        "    for residue, phi, psi in zip(*rama):\n",
        "        phi_col = int(phi) + 179\n",
        "        psi_row = -1 * int(psi) + 179\n",
        "        rama_count.setdefault(regions_matrix[psi_row][phi_col], 0)\n",
        "        rama_count[regions_matrix[psi_row][phi_col]] += 1\n",
        "\n",
        "    # Select atoms\n",
        "    selected_atoms = [residue['CB'] if residue.has_id('CB') else residue['CA'] for residue in structure[0][chain] if residue.id[0] == \" \"]\n",
        "\n",
        "    # Contacts calculated with a custom function\n",
        "    dist_matrix = get_distance_matrix(selected_atoms, seq_sep=0)\n",
        "    contact_map = (dist_matrix[:] < 5).astype(float)\n",
        "\n",
        "    # Contacts calculated with Neighbours Search\n",
        "    contact_map_nb = get_contact_map(selected_atoms, threshold=5.0, seq_sep=0)\n",
        "\n",
        "    # Create the figure and axes objects\n",
        "    fig, axes = plt.subplots(4, 2, figsize=(12, 20))\n",
        "\n",
        "    # Plot Ramachandran regions (60 percentile & 90 percentile)\n",
        "    cmap = mplcolors.ListedColormap(['#FFFFFF', '#B3E8FF', '#7FD9FF'])\n",
        "    im = axes[0, 0].imshow(regions_matrix, cmap=cmap, extent=(-180, 180, -180, 180))\n",
        "    axes[0, 0].set_xlabel('phi')\n",
        "    axes[0, 0].set_ylabel('psi')\n",
        "\n",
        "    # Plot actual Ramachandran values\n",
        "    axes[0, 0].scatter(rama[1], rama[2], s=3, alpha=0.5)\n",
        "    axes[0, 0].set_title(\"Ramachandran: {}\".format(rama_count))\n",
        "\n",
        "    # Plot contact maps\n",
        "    axes[0, 1].imshow(dist_matrix, interpolation=\"none\")\n",
        "    axes[0, 1].set_title(\"{}_{}\".format(pdb_id, chain))\n",
        "\n",
        "    axes[1, 0].imshow(np.triu(contact_map, 0), interpolation=\"none\")\n",
        "    axes[1, 0].set_title(\"Contacts custom {}\\nContacts NS {} + {} diagonal\".format(\n",
        "        np.triu(contact_map, 0).sum(), np.triu(contact_map_nb, 0).sum(), len(selected_atoms)))\n",
        "\n",
        "    axes[1, 1].imshow(np.triu(contact_map, 0) - np.triu(contact_map, 6), interpolation=\"none\")\n",
        "    axes[1, 1].set_title(\"0-6: {}\".format((np.triu(contact_map, 0) - np.triu(contact_map, 6)).sum()))\n",
        "\n",
        "    axes[2, 0].imshow(np.triu(contact_map, 6) - np.triu(contact_map, 12), interpolation=\"none\")\n",
        "    axes[2, 0].set_title(\"7-12: {}\".format((np.triu(contact_map, 6) - np.triu(contact_map, 12)).sum()))\n",
        "\n",
        "    axes[2, 1].imshow(np.triu(contact_map, 12) - np.triu(contact_map, 24), interpolation=\"none\")\n",
        "    axes[2, 1].set_title(\"13-24: {}\".format((np.triu(contact_map, 12) - np.triu(contact_map, 24)).sum()))\n",
        "\n",
        "    axes[3, 0].imshow(np.triu(contact_map, 24) - np.triu(contact_map, 9999), interpolation=\"none\")\n",
        "    axes[3, 0].set_title(\"25-inf: {}\".format((np.triu(contact_map, 24) - np.triu(contact_map, 999999)).sum()))\n",
        "\n",
        "    # Set font size\n",
        "    plt.rc('font', size=15)\n",
        "    plt.rc('axes', titlesize=15)\n",
        "\n",
        "    fig.tight_layout()\n",
        "    fig.subplots_adjust(hspace=0.3)\n",
        "\n",
        "    # Save figure and close the plot object\n",
        "    plt.savefig(path + '/figures/{}_{}.png'.format(pdb_id, chain), dpi=150, bbox_inches='tight')\n",
        "    plt.close()\n",
        "\n",
        "    # break"
      ],
      "metadata": {
        "id": "eL9movqrUvIL",
        "colab": {
          "base_uri": "https://localhost:8080/"
        },
        "outputId": "69914a63-12c1-4b7b-892e-ed2f85b9ffc1"
      },
      "execution_count": null,
      "outputs": [
        {
          "output_type": "stream",
          "name": "stdout",
          "text": [
            "1ot6 A\n",
            "Structure exists: 'drive/MyDrive/universita/structural_bioinformatics/midterm/data/pdbs/pdb1ot6.ent' \n"
          ]
        }
      ]
    }
  ]
}