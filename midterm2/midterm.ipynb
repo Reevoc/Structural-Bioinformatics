{
 "cells": [
  {
   "attachments": {},
   "cell_type": "markdown",
   "metadata": {},
   "source": [
    "# Libraryes \n",
    "Download all the library needed to execution of the notebook"
   ]
  },
  {
   "cell_type": "code",
   "execution_count": 113,
   "metadata": {},
   "outputs": [],
   "source": [
    "import pandas as pd\n",
    "import numpy as np\n",
    "from Bio.SVDSuperimposer import SVDSuperimposer\n",
    "from Bio.PDB.PDBParser import PDBParser\n",
    "import matplotlib.pyplot as plt\n",
    "import os\n",
    "from Bio.PDB import PDBList, calc_angle, calc_dihedral, PPBuilder, is_aa, PDBIO, NeighborSearch,Selection\n",
    "from Bio.PDB.PDBParser import PDBParser\n",
    "from Bio.SeqUtils import IUPACData\n",
    "from Bio.PDB.PDBIO import Select\n",
    "from Bio.SeqIO.PdbIO import PdbSeqresIterator\n",
    "import numpy as np\n",
    "import math\n",
    "import matplotlib\n",
    "import matplotlib.colors as mplcolors\n",
    "import matplotlib.pyplot as plt\n",
    "from RamachanDraw import phi_psi\n",
    "from matplotlib.ticker import (MultipleLocator, AutoMinorLocator)\n",
    "import copy\n",
    "from Bio.SeqUtils import seq1"
   ]
  },
  {
   "attachments": {},
   "cell_type": "markdown",
   "metadata": {},
   "source": [
    "# Protein download form PDB\n",
    "This is the protein to analyze '2lea_A' download the assigned PDB structure and consider only standard (non-hetero) residues of the specified chain (<PDB ID>_<chain ID>). \n",
    "\n",
    "Calculate the contact map (question 1) and the conformational energy (questions 2 and 3) as described in the IUPRED paper. \n",
    "\n",
    "The M and P matrices are available from the iupred_data.py. The smoothed energy is the moving average of the raw energy over a window of 21 residues (±10 residues around the current position)."
   ]
  },
  {
   "cell_type": "code",
   "execution_count": 114,
   "metadata": {},
   "outputs": [],
   "source": [
    "path = \"./home/Documents/Structural-Bioinformatics\"\n",
    "id_protein, chain = ['2lea', 'A' ]\n",
    "parser = PDBParser(QUIET=True)\n",
    "# if the file does not exist, it will be downloaded\n",
    "if os.path.exists(path + \"/pdb/pdb{}.ent\".format(id_protein.lower())) is True:\n",
    "  path_pdb = path + \"/pdb/pdb{}.ent\".format(id_protein.lower())\n",
    "else:\n",
    "  pdbl = PDBList()\n",
    "  path_pdb = pdbl.retrieve_pdb_file(id_protein, pdir=path + \"/pdb\", file_format=\"pdb\")\n",
    "structure = parser.get_structure(id_protein, path_pdb)\n",
    "new_structure = structure.copy()\n",
    "\n",
    "if os.path.exists(path +'/figures_mid_term2') is False:\n",
    "  os.mkdir(path +'/figures_mid_term2') "
   ]
  },
  {
   "attachments": {},
   "cell_type": "markdown",
   "metadata": {},
   "source": [
    "# Defain main function to use"
   ]
  },
  {
   "cell_type": "code",
   "execution_count": 115,
   "metadata": {},
   "outputs": [],
   "source": [
    "def get_distance_matrix(atoms, seq_sep=6):\n",
    "  \"\"\"\n",
    "  Calculate a distance matrix considering only \n",
    "  CA atoms and a minimum sequence separation.  \n",
    "  Return a Numpy array\n",
    "  \"\"\"\n",
    "  distances = []\n",
    "  for atom1 in atoms:\n",
    "    row = []\n",
    "    for atom2 in atoms:\n",
    "      # Check sequence separation\n",
    "      # if abs(atom1.id[1] - atom2.id[1]) >= seq_sep:\n",
    "      if abs(atoms.index(atom1) - atoms.index(atom2)) >= seq_sep:\n",
    "        row.append(atom1 - atom2)\n",
    "      else:\n",
    "        row.append(None) # For atoms not respecting sequence separation\n",
    "    distances.append(row)\n",
    "  return np.array(distances, dtype=float)"
   ]
  },
  {
   "cell_type": "code",
   "execution_count": 116,
   "metadata": {},
   "outputs": [],
   "source": [
    "def get_contact_map(atoms, threshold=3.5, seq_sep=2):\n",
    "\n",
    "  # Calculate contacts\n",
    "  ns = NeighborSearch(atoms)\n",
    "\n",
    "  # Init a empty matrix\n",
    "  contact_map_nb = np.zeros((len(atoms), len(atoms)))\n",
    "\n",
    "  # \"search_all\" returns the list of atoms in contact based on a distance cutoff\n",
    "  # level=\"R\" returns pairs of residues instead of atoms\n",
    "  for residues1, residues2 in ns.search_all(threshold, 'R'):\n",
    "    if abs(residues1.id[1] - residues2.id[1]) >= seq_sep:\n",
    "          contact_map_nb[residues1.id[1] , residues2.id[1]] = 1\n",
    "          contact_map_nb[residues2.id[1], residues1.id[1]] = 1\n",
    "  return contact_map_nb"
   ]
  },
  {
   "attachments": {},
   "cell_type": "markdown",
   "metadata": {},
   "source": [
    "#### Load the structure"
   ]
  },
  {
   "cell_type": "code",
   "execution_count": 117,
   "metadata": {},
   "outputs": [
    {
     "name": "stdout",
     "output_type": "stream",
     "text": [
      "Structure exists: './home/Documents/Structural-Bioinformatics/pdbs/pdb2lea.ent' \n"
     ]
    }
   ],
   "source": [
    "pdbl = PDBList()\n",
    "pdbl.retrieve_pdb_file(id_protein, pdir=path + '/pdbs', file_format='pdb')\n",
    "structure = PDBParser(QUIET=True).get_structure(id_protein, path + \"/pdbs/pdb{}.ent\".format(id_protein))"
   ]
  },
  {
   "attachments": {},
   "cell_type": "markdown",
   "metadata": {},
   "source": [
    "#### Select the atoms"
   ]
  },
  {
   "cell_type": "code",
   "execution_count": 118,
   "metadata": {},
   "outputs": [],
   "source": [
    "selected_atoms = [residue['CA'] for residue in structure[0][chain] if residue.id[0] == \" \"]\n"
   ]
  },
  {
   "attachments": {},
   "cell_type": "markdown",
   "metadata": {},
   "source": [
    "#### Contacts calculated with Neighbours Search"
   ]
  },
  {
   "cell_type": "code",
   "execution_count": 119,
   "metadata": {},
   "outputs": [
    {
     "data": {
      "image/png": "[encoded data removed]",
      "text/plain": [
       "<Figure size 600x600 with 1 Axes>"
      ]
     },
     "metadata": {},
     "output_type": "display_data"
    }
   ],
   "source": [
    "contact_map_nb = get_contact_map(selected_atoms, threshold=6, seq_sep=2)\n",
    "fig, ax = plt.subplots(figsize=(6, 6))\n",
    "im = ax.imshow(contact_map_nb)\n",
    "\n",
    "# Set ticks\n",
    "ax.xaxis.set_major_locator(MultipleLocator(10))\n",
    "ax.xaxis.set_minor_locator(AutoMinorLocator(10))\n",
    "ax.yaxis.set_major_locator(MultipleLocator(10))\n",
    "ax.yaxis.set_minor_locator(AutoMinorLocator(10))\n",
    "\n",
    "plt.savefig(path + '/figures_mid_term2/ca_contacts_nb{}.png'.format(id_protein), dpi=300, bbox_inches='tight')"
   ]
  },
  {
   "attachments": {},
   "cell_type": "markdown",
   "metadata": {},
   "source": [
    "#### Exact Energy\n",
    "Calculate the exact energy of each residue based on the weighted contribution of its contacts\n",
    "(as calculated above) and plot the raw and smoothed energy for each residue on the same figure.\n",
    "Use the M matrix to calculate the contact energy"
   ]
  },
  {
   "cell_type": "code",
   "execution_count": 124,
   "metadata": {},
   "outputs": [],
   "source": [
    "execfile(\"./iupred_data.py\")\n",
    "m_matrix = np.array(m_matrix)\n",
    "p_matrix = np.array(p_matrix)\n"
   ]
  },
  {
   "cell_type": "code",
   "execution_count": 125,
   "metadata": {},
   "outputs": [],
   "source": [
    "def iupred(seq, sequence_separation=2, window_size=100, window_size_smooth=10):\n",
    "    '''\n",
    "    Calculate residue IUPRED energy considering neighbouring residues (windows_size) and\n",
    "    smoothing by window_size_smooth\n",
    "    :param seq: a string of aminoacids\n",
    "    :param sequence_separation: neighbours min distance\n",
    "    :param window_size: neighbours max distance\n",
    "    :param window_size_smooth: sliding average window size\n",
    "    :return: row prediction, smoothed prediction\n",
    "    '''\n",
    "\n",
    "    pred = []  # Calculated energy per sequence position\n",
    "    pred_smooth = []\n",
    "\n",
    "    indices = [aa_list.index(aa) for aa in list(seq)]  # Transform sequence into indexes as in the P matrix\n",
    "    for i, aa_index in enumerate(indices):\n",
    "\n",
    "        # Get the slice i-100/i+100 excluding adjacent positions (+/-1)\n",
    "        start_before = max(0, i - window_size)\n",
    "        end_before = max(0, i - sequence_separation)\n",
    "        start_after = min(len(indices) - 1, i + sequence_separation)\n",
    "        end_after = min(len(indices) - 1, i + window_size)\n",
    "        indices_local = indices[start_before: end_before] + indices[start_after: end_after]\n",
    "        print(i, aa_index, aa_list[aa_index], len(indices), len(indices_local), start_before, end_before, start_after, end_after)\n",
    "\n",
    "        # Count the different amino acids in the window\n",
    "        row = np.full((20,), 0)\n",
    "        for index in indices_local:\n",
    "            row[index] += 1\n",
    "        print(row)\n",
    "\n",
    "        # calculate AA frequency\n",
    "        row = row / len(indices_local)  \n",
    "        print(row)\n",
    "\n",
    "        # calculate energy\n",
    "        row = row * p_matrix[aa_index, ]  \n",
    "        print(row)\n",
    "\n",
    "        aa_energy = np.sum(row)\n",
    "        print(i, seq[i], aa_energy)\n",
    "\n",
    "        pred.append(aa_energy)\n",
    "\n",
    "    # Smooth the prediction (moving average)\n",
    "    for i in range(len(pred)):\n",
    "        frag = pred[max(0, i - window_size_smooth): min(i + window_size_smooth, len(pred))]\n",
    "        pred_smooth.append(sum(frag) / len(frag))\n",
    "\n",
    "    return pred, pred_smooth"
   ]
  },
  {
   "cell_type": "code",
   "execution_count": null,
   "metadata": {},
   "outputs": [],
   "source": [
    "  seq = \"\".join([seq1(residue.get_resname()) for residue in residues])\n",
    "pred, pred_smooth = iupred(seq)"
   ]
  }
 ],
 "metadata": {
  "kernelspec": {
   "display_name": "SB",
   "language": "python",
   "name": "python3"
  },
  "language_info": {
   "codemirror_mode": {
    "name": "ipython",
    "version": 3
   },
   "file_extension": ".py",
   "mimetype": "text/x-python",
   "name": "python",
   "nbconvert_exporter": "python",
   "pygments_lexer": "ipython3",
   "version": "3.11.0"
  },
  "orig_nbformat": 4
 },
 "nbformat": 4,
 "nbformat_minor": 2
}
