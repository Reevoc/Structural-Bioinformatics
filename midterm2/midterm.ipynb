{
 "cells": [
  {
   "attachments": {},
   "cell_type": "markdown",
   "metadata": {},
   "source": [
    "# Libraryes \n",
    "Download all the library needed to execution of the notebook"
   ]
  },
  {
   "cell_type": "code",
   "execution_count": 153,
   "metadata": {},
   "outputs": [],
   "source": [
    "import pandas as pd\n",
    "import numpy as np\n",
    "from Bio.SVDSuperimposer import SVDSuperimposer\n",
    "from Bio.PDB.PDBParser import PDBParser\n",
    "import matplotlib.pyplot as plt\n",
    "import os\n",
    "from Bio.PDB import PDBList, calc_angle, calc_dihedral, PPBuilder, is_aa, PDBIO, NeighborSearch,Selection\n",
    "from Bio.PDB.PDBParser import PDBParser\n",
    "from Bio.SeqUtils import IUPACData\n",
    "from Bio.PDB.PDBIO import Select\n",
    "from Bio.SeqIO.PdbIO import PdbSeqresIterator\n",
    "import numpy as np\n",
    "import math\n",
    "import matplotlib\n",
    "import matplotlib.colors as mplcolors\n",
    "import matplotlib.pyplot as plt\n",
    "from RamachanDraw import phi_psi\n",
    "from matplotlib.ticker import (MultipleLocator, AutoMinorLocator)\n",
    "import copy"
   ]
  },
  {
   "attachments": {},
   "cell_type": "markdown",
   "metadata": {},
   "source": [
    "# Protein download form PDB\n",
    "This is the protein to analyze '2lea_A' download the assigned PDB structure and consider only standard (non-hetero) residues of the specified chain (<PDB ID>_<chain ID>). \n",
    "\n",
    "Calculate the contact map (question 1) and the conformational energy (questions 2 and 3) as described in the IUPRED paper. \n",
    "\n",
    "The M and P matrices are available from the iupred_data.py. The smoothed energy is the moving average of the raw energy over a window of 21 residues (±10 residues around the current position)."
   ]
  },
  {
   "cell_type": "code",
   "execution_count": 154,
   "metadata": {},
   "outputs": [],
   "source": [
    "path = \"./home/Documents/Structural-Bioinformatics\"\n",
    "id_protein, chain = ['2lea', 'A' ]\n",
    "parser = PDBParser(QUIET=True)\n",
    "# if the file does not exist, it will be downloaded\n",
    "if os.path.exists(path + \"/pdb/pdb{}.ent\".format(id_protein.lower())) is True:\n",
    "  path_pdb = path + \"/pdb/pdb{}.ent\".format(id_protein.lower())\n",
    "else:\n",
    "  pdbl = PDBList()\n",
    "  path_pdb = pdbl.retrieve_pdb_file(id_protein, pdir=path + \"/pdb\", file_format=\"pdb\")\n",
    "structure = parser.get_structure(id_protein, path_pdb)\n",
    "new_structure = structure.copy()\n",
    "\n",
    "if os.path.exists(path +'/figures_mid_term2') is False:\n",
    "  os.mkdir(path +'/figures_mid_term2') "
   ]
  },
  {
   "attachments": {},
   "cell_type": "markdown",
   "metadata": {},
   "source": [
    "# Defain main function to use"
   ]
  },
  {
   "cell_type": "code",
   "execution_count": 155,
   "metadata": {},
   "outputs": [],
   "source": [
    "def get_distance_matrix(atoms, seq_sep=6):\n",
    "  \"\"\"\n",
    "  Calculate a distance matrix considering only \n",
    "  CA atoms and a minimum sequence separation.  \n",
    "  Return a Numpy array\n",
    "  \"\"\"\n",
    "  distances = []\n",
    "  for atom1 in atoms:\n",
    "    row = []\n",
    "    for atom2 in atoms:\n",
    "      # Check sequence separation\n",
    "      # if abs(atom1.id[1] - atom2.id[1]) >= seq_sep:\n",
    "      if abs(atoms.index(atom1) - atoms.index(atom2)) >= seq_sep:\n",
    "        row.append(atom1 - atom2)\n",
    "      else:\n",
    "        row.append(None) # For atoms not respecting sequence separation\n",
    "    distances.append(row)\n",
    "  return np.array(distances, dtype=float)"
   ]
  },
  {
   "cell_type": "code",
   "execution_count": 167,
   "metadata": {},
   "outputs": [],
   "source": [
    "def get_contact_map(atoms, threshold=3.5, seq_sep=2):\n",
    "\n",
    "  # Calculate contacts\n",
    "  ns = NeighborSearch(atoms)\n",
    "\n",
    "  # Init a empty matrix\n",
    "  contact_map_nb = np.zeros((len(atoms), len(atoms)))\n",
    "\n",
    "  # \"search_all\" returns the list of atoms in contact based on a distance cutoff\n",
    "  # level=\"R\" returns pairs of residues instead of atoms\n",
    "  for residues1, residues2 in ns.search_all(threshold, 'R'):\n",
    "    atoms_res1 = residues1.get_atoms()\n",
    "    atoms_res2 = residues2.get_atoms()\n",
    "    for atom1 in atoms_res1:\n",
    "      for atom2 in atoms_res2:\n",
    "        if abs(atoms.index(atom1) - atoms.index(atom2)) >= seq_sep:\n",
    "          contact_map_nb[residues1.index(atom1), atoms.index(atom2)] = 1\n",
    "          contact_map_nb[atoms.index(atom2), atoms.index(atom1)] = 1\n",
    "  return contact_map_nb"
   ]
  },
  {
   "attachments": {},
   "cell_type": "markdown",
   "metadata": {},
   "source": [
    "#### Load the structure"
   ]
  },
  {
   "cell_type": "code",
   "execution_count": 157,
   "metadata": {},
   "outputs": [
    {
     "name": "stdout",
     "output_type": "stream",
     "text": [
      "Structure exists: './home/Documents/Structural-Bioinformatics/pdbs/pdb2lea.ent' \n"
     ]
    }
   ],
   "source": [
    "pdbl = PDBList()\n",
    "pdbl.retrieve_pdb_file(id_protein, pdir=path + '/pdbs', file_format='pdb')\n",
    "structure = PDBParser(QUIET=True).get_structure(id_protein, path + \"/pdbs/pdb{}.ent\".format(id_protein))"
   ]
  },
  {
   "attachments": {},
   "cell_type": "markdown",
   "metadata": {},
   "source": [
    "#### Select the atoms"
   ]
  },
  {
   "cell_type": "code",
   "execution_count": 158,
   "metadata": {},
   "outputs": [],
   "source": [
    "selected_atoms = [residue['CB'] if residue.has_id('CB') else residue['CA'] for residue in structure[0][chain] if residue.id[0] == \" \"]"
   ]
  },
  {
   "attachments": {},
   "cell_type": "markdown",
   "metadata": {},
   "source": [
    "#### Contacts calculated with Neighbours Search"
   ]
  },
  {
   "cell_type": "code",
   "execution_count": 168,
   "metadata": {},
   "outputs": [
    {
     "ename": "ValueError",
     "evalue": "<Atom N> is not in list",
     "output_type": "error",
     "traceback": [
      "\u001b[0;31m---------------------------------------------------------------------------\u001b[0m",
      "\u001b[0;31mValueError\u001b[0m                                Traceback (most recent call last)",
      "Cell \u001b[0;32mIn[168], line 1\u001b[0m\n\u001b[0;32m----> 1\u001b[0m contact_map_nb \u001b[39m=\u001b[39m get_contact_map(selected_atoms, threshold\u001b[39m=\u001b[39;49m\u001b[39m3.5\u001b[39;49m, seq_sep\u001b[39m=\u001b[39;49m\u001b[39m2\u001b[39;49m)\n",
      "Cell \u001b[0;32mIn[167], line 16\u001b[0m, in \u001b[0;36mget_contact_map\u001b[0;34m(atoms, threshold, seq_sep)\u001b[0m\n\u001b[1;32m     14\u001b[0m \u001b[39mfor\u001b[39;00m atom1 \u001b[39min\u001b[39;00m atoms_res1:\n\u001b[1;32m     15\u001b[0m   \u001b[39mfor\u001b[39;00m atom2 \u001b[39min\u001b[39;00m atoms_res2:\n\u001b[0;32m---> 16\u001b[0m     \u001b[39mif\u001b[39;00m \u001b[39mabs\u001b[39m(atoms\u001b[39m.\u001b[39;49mindex(atom1) \u001b[39m-\u001b[39m atoms\u001b[39m.\u001b[39mindex(atom2)) \u001b[39m>\u001b[39m\u001b[39m=\u001b[39m seq_sep:\n\u001b[1;32m     17\u001b[0m       contact_map_nb[atoms\u001b[39m.\u001b[39mindex(atom1), atoms\u001b[39m.\u001b[39mindex(atom2)] \u001b[39m=\u001b[39m \u001b[39m1\u001b[39m\n\u001b[1;32m     18\u001b[0m       contact_map_nb[atoms\u001b[39m.\u001b[39mindex(atom2), atoms\u001b[39m.\u001b[39mindex(atom1)] \u001b[39m=\u001b[39m \u001b[39m1\u001b[39m\n",
      "\u001b[0;31mValueError\u001b[0m: <Atom N> is not in list"
     ]
    }
   ],
   "source": [
    "contact_map_nb = get_contact_map(selected_atoms, threshold=3.5, seq_sep=2)"
   ]
  }
 ],
 "metadata": {
  "kernelspec": {
   "display_name": "SB",
   "language": "python",
   "name": "python3"
  },
  "language_info": {
   "codemirror_mode": {
    "name": "ipython",
    "version": 3
   },
   "file_extension": ".py",
   "mimetype": "text/x-python",
   "name": "python",
   "nbconvert_exporter": "python",
   "pygments_lexer": "ipython3",
   "version": "3.11.0"
  },
  "orig_nbformat": 4
 },
 "nbformat": 4,
 "nbformat_minor": 2
}
